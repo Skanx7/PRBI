{
  "cells": [
    {
      "cell_type": "markdown",
      "id": "DzfJfOi8WRJp",
      "metadata": {
        "id": "DzfJfOi8WRJp"
      },
      "source": [
        "# 📝 Pattern Recognition & Biometrics. TP Apprentissage profond ou *Deep Learning*\n",
        "\n",
        "Par Omar Galarraga et Sonia Garcia"
      ]
    },
    {
      "cell_type": "markdown",
      "id": "EWDOsRaVWRJx",
      "metadata": {
        "id": "EWDOsRaVWRJx"
      },
      "source": [
        "Dans ce travail pratique, nous verrons l'intérêt des modèles d'apprentissage profond (*Deep Learning*) en les comparant à des modèles de *Machine Learning* classiques (non profonds).  \n",
        "\n",
        "Nous voudrons identifier les animaux et les objets à partir des images de la base de données CIFAR 10 (https://www.cs.toronto.edu/%7Ekriz/cifar.html). \n",
        "\n",
        "Commençons par charger les données...\n"
      ]
    },
    {
      "cell_type": "code",
      "execution_count": null,
      "id": "tsw6rkteKky7",
      "metadata": {
        "id": "tsw6rkteKky7"
      },
      "outputs": [],
      "source": [
        "import tensorflow as tf\n",
        "\n",
        "from tensorflow import keras\n",
        "from keras import datasets\n",
        "from keras.models import Sequential\n",
        "from keras.layers import Dense, MaxPooling2D, Conv2D, Flatten\n",
        "\n",
        "(data_train, target_train), (data_test, target_test) = tf.keras.datasets.cifar10.load_data()"
      ]
    },
    {
      "cell_type": "markdown",
      "id": "shFvcYh2K0fn",
      "metadata": {
        "id": "shFvcYh2K0fn"
      },
      "source": [
        "A manière d'exemple, nous afficherons 3 images de chaque classe :"
      ]
    },
    {
      "cell_type": "code",
      "execution_count": null,
      "id": "0Gzklw6ILcRd",
      "metadata": {
        "id": "0Gzklw6ILcRd"
      },
      "outputs": [],
      "source": [
        "import matplotlib.pyplot as plt\n",
        "import numpy as np\n",
        "classes = ['avion', 'voiture', 'oiseau', 'chat', 'cerf', \n",
        "            'chien', 'crapaud', 'cheval', 'bateau', 'camion']\n",
        "\n",
        "# Normalisation des valeurs des pixels entre 0 and 1\n",
        "data_train, data_test = data_train / 255.0, data_test / 255.0\n",
        "\n",
        "n_images = 3\n",
        "\n",
        "plt.figure(figsize=(10,10))\n",
        "for i in range(len(classes)):\n",
        "  idx = np.where(target_train == i)\n",
        "  #print(idx)\n",
        "  for j in range(n_images): \n",
        "    plt.subplot(len(classes),n_images,n_images*i+j+1)\n",
        "    plt.xticks([])\n",
        "    plt.yticks([])\n",
        "    plt.grid(False)\n",
        "    plt.imshow(data_train[idx[0][j]])\n",
        "    if j == 0:\n",
        "        plt.ylabel(classes[target_train[idx[0][j]][0]])\n",
        "plt.show()\n"
      ]
    },
    {
      "cell_type": "markdown",
      "id": "ot2tF6FsWRJ0",
      "metadata": {
        "id": "ot2tF6FsWRJ0"
      },
      "source": [
        "## Partie I. *Feedforward Neural Network* à une seule couche cachée\n",
        "\n",
        "Nous construisons un réseau de neurones avec $N_{H_l} = 1$ couche cachée et $m=32$ neurones dans la couche cachée. \n",
        "\n",
        "* I.1) Si on considère les images \"brutes\", quelle est la dimension de la \"couche\" d'entrée ?\n",
        "* I.2) Quelle est la performance du modèle sur les ensembles d'apprentissage et de test ?"
      ]
    },
    {
      "cell_type": "code",
      "execution_count": null,
      "id": "3wRDkO5zWRJ3",
      "metadata": {
        "id": "3wRDkO5zWRJ3"
      },
      "outputs": [],
      "source": [
        "m=32\n",
        "refmodel = tf.keras.Sequential()\n",
        "refmodel.add(Flatten(input_shape=data_train[0].shape))\n",
        "refmodel.add(Dense(m, activation='sigmoid'))\n",
        "refmodel.add(Dense(len(classes)))\n",
        "\n",
        "refmodel.compile(optimizer='adam',\n",
        "              loss=tf.keras.losses.SparseCategoricalCrossentropy(from_logits=True),\n",
        "              metrics=['accuracy'])\n",
        "history1 = refmodel.fit(data_train, target_train, epochs=20, \n",
        "                        validation_data=(data_test, target_test), batch_size=64)"
      ]
    },
    {
      "cell_type": "markdown",
      "id": "ma0pJiRGWRJ_",
      "metadata": {
        "id": "ma0pJiRGWRJ_"
      },
      "source": [
        "Optimisez le nombre de neurones dans la couche cachée dans l'intervalle $m = \\left[2,128\\right]$\n",
        "* I.3) Quelle est la valeur optimale de $ m $ ?\n",
        "* I.4) Quelles sont les nouvelles performances en apprentissage et en test ?"
      ]
    },
    {
      "cell_type": "code",
      "execution_count": null,
      "id": "I5wcNSeVWRKA",
      "metadata": {
        "id": "I5wcNSeVWRKA"
      },
      "outputs": [],
      "source": [
        "#Ecrivez votre code ici\n"
      ]
    },
    {
      "cell_type": "markdown",
      "id": "tHuhNmvRomRj",
      "metadata": {
        "id": "tHuhNmvRomRj"
      },
      "source": [
        "Montrez la matrice de confusion du modèle optimal sur l'ensemble de test\n",
        "\n",
        "* I.4) Quelle est la prédiction \"préférée\" du modèle ?\n",
        "* I.5) Quelle est la classe la mieux prédite ? Justifiez brièvement"
      ]
    },
    {
      "cell_type": "code",
      "execution_count": null,
      "id": "VHDli7m-ott4",
      "metadata": {
        "id": "VHDli7m-ott4"
      },
      "outputs": [],
      "source": [
        "#Ecrivez votre code ici\n"
      ]
    },
    {
      "cell_type": "markdown",
      "id": "J1IbednbWRKI",
      "metadata": {
        "id": "J1IbednbWRKI"
      },
      "source": [
        "## Partie II. *Feedforward Neural Networks* à plusieurs couches\n",
        "\n",
        "Construisez et entraînez un réseau de neurones type Perceptron Multicouche (PMC) à $N_{H_l} = 3$ couches cachées et avec $m_1=32, m_2=16, m_3 = 16$ neurones respectivement pour les couches cachées 1, 2 et 3.\n",
        "\n",
        "* II.1) Combien de paramètres sont-ils optimisés au total ? \n",
        "* II.2) Quelle est la performance en apprentissage et validation ?\n",
        "* II.3) Montrez la matrice de confusion"
      ]
    },
    {
      "cell_type": "code",
      "execution_count": null,
      "id": "SI7tyTgwWRKU",
      "metadata": {
        "id": "SI7tyTgwWRKU"
      },
      "outputs": [],
      "source": [
        "#Ecrivez votre code ici\n"
      ]
    },
    {
      "cell_type": "markdown",
      "id": "HxRPx84AWRKZ",
      "metadata": {
        "id": "HxRPx84AWRKZ"
      },
      "source": [
        "## Partie III. Réseaux de neurones convolutionnels (*CNN*)\n",
        "\n",
        "\n",
        "Créez un CNN à l'image de *LeNet-5* (LeCun et al., 1998), qui consiste en une double alternance entre une couche convolutionnelle ($m=32$, kernel de $5x5$) et une couche de *Maximum Pooling* (kernel de $2x2$), suivie d'une couche dense ($m=64$)."
      ]
    },
    {
      "cell_type": "code",
      "execution_count": null,
      "id": "6DUG0ViJWRKa",
      "metadata": {
        "id": "6DUG0ViJWRKa"
      },
      "outputs": [],
      "source": [
        "#Ecrivez votre code ici\n"
      ]
    },
    {
      "cell_type": "markdown",
      "id": "CIQyWFE6s6RY",
      "metadata": {
        "id": "CIQyWFE6s6RY"
      },
      "source": [
        "\n",
        "* III.1) Combien de paramètres arrivent-ils en entrée de la couche dense ?\n",
        "* III.2) Combien de paramètres sont-ils entraînés au total ?\n",
        "* III.3) Quelle est la performance d'apprentissage et de validation ?"
      ]
    },
    {
      "cell_type": "code",
      "execution_count": null,
      "id": "ymo2AiogWRKa",
      "metadata": {
        "collapsed": true,
        "id": "ymo2AiogWRKa"
      },
      "outputs": [],
      "source": [
        "#Ecrivez votre code ici\n"
      ]
    },
    {
      "cell_type": "markdown",
      "id": "oJ76nnyCoaSh",
      "metadata": {
        "id": "oJ76nnyCoaSh"
      },
      "source": [
        "## Partie IV. Transfer learning\n",
        "\n",
        "Avec l'immense progression récente du Deep Learning, il est souvent plus intéressant de créer un modèle à partir d'un autre modèle déjà entraîné et l'ajuster (*fine-tune*) selon la tâche spécifique que l'on veut réaliser. Actuellement un large catalogue de modèles très complexes entraînés sur des bases de données de très grande taille est à disposition du public général.   \n",
        "\n",
        "Commençons par créer un réseau type *ResNet-18* (He et al., 2015) pré-entraîné sur la base de données *ImageNet*"
      ]
    },
    {
      "cell_type": "code",
      "execution_count": null,
      "id": "CnFl4Qdmqnfu",
      "metadata": {
        "id": "CnFl4Qdmqnfu"
      },
      "outputs": [],
      "source": [
        "#import torch \n",
        "from tensorflow.keras.applications import ResNet50\n",
        "\n",
        "#resnet = torch.hub.load('pytorch/vision:v0.10.0', 'resnet18', pretrained=True) \n",
        "\n",
        "ResNet50_model = ResNet50(\n",
        "    include_top=False, \n",
        "    weights='imagenet', \n",
        "    input_shape= (32, 32, 3),\n",
        "    pooling='avg')\n",
        "\n",
        "tl_cnn = Sequential()\n",
        "tl_cnn.add(ResNet50_model)\n",
        "tl_cnn.add(Flatten())\n",
        "tl_cnn.add(Dense(10, activation='softmax'))\n",
        "tl_cnn.summary()"
      ]
    },
    {
      "cell_type": "markdown",
      "id": "Zra8wbQubyQV",
      "metadata": {
        "id": "Zra8wbQubyQV"
      },
      "source": [
        "Maintenant on ajuste le modèle pré-entraîné à notre problème spécifique (*fine-tuning*) \n",
        "(Il est préférable d'utiliser un GPU. Par exemple, Google Colab, Codesphere, Gradient by Paperspace, Kaggle, proposent des GPU gratuitement)"
      ]
    },
    {
      "cell_type": "code",
      "execution_count": null,
      "id": "iE3I1LDObX_Z",
      "metadata": {
        "id": "iE3I1LDObX_Z"
      },
      "outputs": [],
      "source": [
        "tl_cnn.compile(optimizer='adam', loss=tf.keras.losses.SparseCategoricalCrossentropy(from_logits=True),metrics=['accuracy'])\n",
        "history4 = tl_cnn.fit(data_train, target_train, epochs=20, validation_data=(data_test, target_test))"
      ]
    },
    {
      "cell_type": "markdown",
      "id": "C2zn3gc1jZnd",
      "metadata": {
        "id": "C2zn3gc1jZnd"
      },
      "source": [
        "Remplissez le tableau ci-dessous selon les différentes méthodes de classification testées.\n",
        "\n",
        "| Classifieur        | Perf Apprentissage | Perf Test | \n",
        "|--------------------|--------------------|-----------|\n",
        "| *FNN* simple       |  |  |  \n",
        "| *FNN* profond      |  |  | \n",
        "| *CNN*              |  |  | \n",
        "| *ResNet50*         |  |  | \n",
        "\n",
        "* IV.1) Quel est le meilleur classifieur ? Justifiez\n"
      ]
    },
    {
      "cell_type": "markdown",
      "id": "5-qeMvzydH82",
      "metadata": {
        "id": "5-qeMvzydH82"
      },
      "source": [
        "IV.2) Pendant quelques années les modèles ResNet ont été le *silver standard* dans la classification d'images. Plus récemment, une autre famille de modèles appelée *ConvNet* (Liu et al., 2022) a montré des meilleures performances. Refaite l'expérience précédente en partant d'un modèle *ConvNet* pré-entraîné. \n",
        "(Il est préférable d'utiliser un GPU. Par exemple, Google Colab, Codesphere, Gradient by Paperspace, Kaggle, proposent des GPU gratuitement)  "
      ]
    },
    {
      "cell_type": "code",
      "execution_count": null,
      "id": "lMI-FQzbf7oN",
      "metadata": {
        "id": "lMI-FQzbf7oN"
      },
      "outputs": [],
      "source": [
        "#Ecrivez votre code ici"
      ]
    }
  ],
  "metadata": {
    "colab": {
      "provenance": []
    },
    "jupytext": {
      "main_language": "python"
    },
    "kernelspec": {
      "display_name": "Python 3",
      "name": "python3"
    },
    "language_info": {
      "name": "python"
    },
    "nbreset": "https://raw.githubusercontent.com/INRIA/scikit-learn-mooc/main/notebooks/01_tabular_data_exploration_ex_01.ipynb"
  },
  "nbformat": 4,
  "nbformat_minor": 5
}
